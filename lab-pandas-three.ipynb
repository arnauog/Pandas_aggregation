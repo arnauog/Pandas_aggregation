{
 "cells": [
  {
   "cell_type": "markdown",
   "metadata": {},
   "source": [
    "# PANDAS LAB - Continuation of the EuroLeague Case Study\n",
    "## Let's compare the competitions!\n",
    "\n",
    "![](https://eurospects.com/wp-content/uploads/2018/10/eurocupeuroleague.png)\n",
    "\n",
    "First of all, we must \n",
    "\n",
    "- Import the actual.csv Dataset. This dataset will be the CSV of the result obtained in class.\n",
    "- Import ec23.xlsx. This dataset correspond to the import the dataset corresponding to Eurocup. Don't worry, this time the Excel will be cleaned (almost)\n",
    "\n",
    "<details>\n",
    "    <summary> Lab results </summary>\n",
    "\n",
    "![](https://media1.tenor.com/m/lx2WSGRk8bcAAAAC/pulp-fiction-john-travolta.gif)\n",
    "\n",
    "PERO QUÉ OS HABÉIS CREÍDO\n",
    "\n",
    "</details>"
   ]
  },
  {
   "cell_type": "code",
   "execution_count": 7,
   "metadata": {},
   "outputs": [
    {
     "name": "stdout",
     "output_type": "stream",
     "text": [
      "Collecting openpyxl\n",
      "  Downloading openpyxl-3.1.5-py2.py3-none-any.whl.metadata (2.5 kB)\n",
      "Collecting et-xmlfile (from openpyxl)\n",
      "  Downloading et_xmlfile-1.1.0-py3-none-any.whl.metadata (1.8 kB)\n",
      "Downloading openpyxl-3.1.5-py2.py3-none-any.whl (250 kB)\n",
      "Downloading et_xmlfile-1.1.0-py3-none-any.whl (4.7 kB)\n",
      "Installing collected packages: et-xmlfile, openpyxl\n",
      "Successfully installed et-xmlfile-1.1.0 openpyxl-3.1.5\n"
     ]
    }
   ],
   "source": [
    "!pip install openpyxl\n",
    "# In case there is an error with this .xlsx document opening, install this library"
   ]
  },
  {
   "cell_type": "code",
   "execution_count": 2,
   "metadata": {},
   "outputs": [],
   "source": [
    "import pandas as pd\n",
    "import numpy as np"
   ]
  },
  {
   "cell_type": "code",
   "execution_count": 202,
   "metadata": {},
   "outputs": [],
   "source": [
    "elteams=pd.read_csv(\"actual.csv\")\n",
    "ecteams=pd.read_excel(\"ec2023.xlsx\", index_col=False)"
   ]
  },
  {
   "cell_type": "markdown",
   "metadata": {},
   "source": [
    "Let's analyze the EuroCup Dataframe! Is there any cleaning needed? Remember the basics: \n",
    "- Drop Null Values\n",
    "- Drop Duplicate Rows\n",
    "- Drop Strange Columns if you see any"
   ]
  },
  {
   "cell_type": "code",
   "execution_count": 203,
   "metadata": {},
   "outputs": [
    {
     "data": {
      "text/html": [
       "<div>\n",
       "<style scoped>\n",
       "    .dataframe tbody tr th:only-of-type {\n",
       "        vertical-align: middle;\n",
       "    }\n",
       "\n",
       "    .dataframe tbody tr th {\n",
       "        vertical-align: top;\n",
       "    }\n",
       "\n",
       "    .dataframe thead th {\n",
       "        text-align: right;\n",
       "    }\n",
       "</style>\n",
       "<table border=\"1\" class=\"dataframe\">\n",
       "  <thead>\n",
       "    <tr style=\"text-align: right;\">\n",
       "      <th></th>\n",
       "      <th>Unnamed: 0</th>\n",
       "      <th>fecha</th>\n",
       "      <th>ronda</th>\n",
       "      <th>local</th>\n",
       "      <th>visitante</th>\n",
       "      <th>localscore</th>\n",
       "      <th>roadscore</th>\n",
       "      <th>Winner</th>\n",
       "      <th>Ganador</th>\n",
       "      <th>plusminus</th>\n",
       "    </tr>\n",
       "  </thead>\n",
       "  <tbody>\n",
       "    <tr>\n",
       "      <th>0</th>\n",
       "      <td>0</td>\n",
       "      <td>2024-01-31T21:00:00</td>\n",
       "      <td>17</td>\n",
       "      <td>Dreamland Gran Canaria</td>\n",
       "      <td>U-BT Cluj-Napoca</td>\n",
       "      <td>111</td>\n",
       "      <td>113.0</td>\n",
       "      <td>Visitante</td>\n",
       "      <td>113.0</td>\n",
       "      <td>-2.0</td>\n",
       "    </tr>\n",
       "    <tr>\n",
       "      <th>1</th>\n",
       "      <td>1</td>\n",
       "      <td>2024-01-31T20:00:00</td>\n",
       "      <td>17</td>\n",
       "      <td>Dolomiti Energia Trento</td>\n",
       "      <td>Buducnost VOLI Podgorica</td>\n",
       "      <td>78</td>\n",
       "      <td>97.0</td>\n",
       "      <td>Visitante</td>\n",
       "      <td>97.0</td>\n",
       "      <td>-19.0</td>\n",
       "    </tr>\n",
       "    <tr>\n",
       "      <th>2</th>\n",
       "      <td>2</td>\n",
       "      <td>2024-01-31T19:30:00</td>\n",
       "      <td>17</td>\n",
       "      <td>ratiopharm Ulm</td>\n",
       "      <td>Aris Midea Thessaloniki</td>\n",
       "      <td>66</td>\n",
       "      <td>86.0</td>\n",
       "      <td>Visitante</td>\n",
       "      <td>86.0</td>\n",
       "      <td>-20.0</td>\n",
       "    </tr>\n",
       "    <tr>\n",
       "      <th>3</th>\n",
       "      <td>3</td>\n",
       "      <td>2024-01-31T18:30:00</td>\n",
       "      <td>17</td>\n",
       "      <td>Cedevita Olimpija Ljubljana</td>\n",
       "      <td>London Lions</td>\n",
       "      <td>85</td>\n",
       "      <td>92.0</td>\n",
       "      <td>Visitante</td>\n",
       "      <td>92.0</td>\n",
       "      <td>-7.0</td>\n",
       "    </tr>\n",
       "    <tr>\n",
       "      <th>4</th>\n",
       "      <td>4</td>\n",
       "      <td>2024-01-31T18:00:00</td>\n",
       "      <td>17</td>\n",
       "      <td>Turk Telekom Ankara</td>\n",
       "      <td>Mincidelice JL Bourg en Bresse</td>\n",
       "      <td>64</td>\n",
       "      <td>68.0</td>\n",
       "      <td>Visitante</td>\n",
       "      <td>68.0</td>\n",
       "      <td>-4.0</td>\n",
       "    </tr>\n",
       "    <tr>\n",
       "      <th>...</th>\n",
       "      <td>...</td>\n",
       "      <td>...</td>\n",
       "      <td>...</td>\n",
       "      <td>...</td>\n",
       "      <td>...</td>\n",
       "      <td>...</td>\n",
       "      <td>...</td>\n",
       "      <td>...</td>\n",
       "      <td>...</td>\n",
       "      <td>...</td>\n",
       "    </tr>\n",
       "    <tr>\n",
       "      <th>168</th>\n",
       "      <td>165</td>\n",
       "      <td>2023-10-04T18:00:00</td>\n",
       "      <td>1</td>\n",
       "      <td>U-BT Cluj-Napoca</td>\n",
       "      <td>Turk Telekom Ankara</td>\n",
       "      <td>80</td>\n",
       "      <td>71.0</td>\n",
       "      <td>Local</td>\n",
       "      <td>80.0</td>\n",
       "      <td>9.0</td>\n",
       "    </tr>\n",
       "    <tr>\n",
       "      <th>169</th>\n",
       "      <td>166</td>\n",
       "      <td>2023-10-04T18:00:00</td>\n",
       "      <td>1</td>\n",
       "      <td>Prometey Slobozhanske</td>\n",
       "      <td>Veolia Towers Hamburg</td>\n",
       "      <td>97</td>\n",
       "      <td>77.0</td>\n",
       "      <td>Local</td>\n",
       "      <td>97.0</td>\n",
       "      <td>20.0</td>\n",
       "    </tr>\n",
       "    <tr>\n",
       "      <th>170</th>\n",
       "      <td>167</td>\n",
       "      <td>2023-10-03T20:30:00</td>\n",
       "      <td>1</td>\n",
       "      <td>Paris Basketball</td>\n",
       "      <td>Wolves Vilnius</td>\n",
       "      <td>105</td>\n",
       "      <td>78.0</td>\n",
       "      <td>Local</td>\n",
       "      <td>105.0</td>\n",
       "      <td>27.0</td>\n",
       "    </tr>\n",
       "    <tr>\n",
       "      <th>171</th>\n",
       "      <td>168</td>\n",
       "      <td>2023-10-03T19:30:00</td>\n",
       "      <td>1</td>\n",
       "      <td>ratiopharm Ulm</td>\n",
       "      <td>Dolomiti Energia Trento</td>\n",
       "      <td>80</td>\n",
       "      <td>70.0</td>\n",
       "      <td>Local</td>\n",
       "      <td>80.0</td>\n",
       "      <td>10.0</td>\n",
       "    </tr>\n",
       "    <tr>\n",
       "      <th>172</th>\n",
       "      <td>169</td>\n",
       "      <td>2023-10-03T19:00:00</td>\n",
       "      <td>1</td>\n",
       "      <td>Hapoel Shlomo Tel Aviv</td>\n",
       "      <td>Cedevita Olimpija Ljubljana</td>\n",
       "      <td>100</td>\n",
       "      <td>73.0</td>\n",
       "      <td>Local</td>\n",
       "      <td>100.0</td>\n",
       "      <td>27.0</td>\n",
       "    </tr>\n",
       "  </tbody>\n",
       "</table>\n",
       "<p>173 rows × 10 columns</p>\n",
       "</div>"
      ],
      "text/plain": [
       "     Unnamed: 0                fecha  ronda                        local  \\\n",
       "0             0  2024-01-31T21:00:00     17       Dreamland Gran Canaria   \n",
       "1             1  2024-01-31T20:00:00     17      Dolomiti Energia Trento   \n",
       "2             2  2024-01-31T19:30:00     17               ratiopharm Ulm   \n",
       "3             3  2024-01-31T18:30:00     17  Cedevita Olimpija Ljubljana   \n",
       "4             4  2024-01-31T18:00:00     17          Turk Telekom Ankara   \n",
       "..          ...                  ...    ...                          ...   \n",
       "168         165  2023-10-04T18:00:00      1             U-BT Cluj-Napoca   \n",
       "169         166  2023-10-04T18:00:00      1        Prometey Slobozhanske   \n",
       "170         167  2023-10-03T20:30:00      1             Paris Basketball   \n",
       "171         168  2023-10-03T19:30:00      1               ratiopharm Ulm   \n",
       "172         169  2023-10-03T19:00:00      1       Hapoel Shlomo Tel Aviv   \n",
       "\n",
       "                          visitante  localscore  roadscore     Winner  \\\n",
       "0                  U-BT Cluj-Napoca         111      113.0  Visitante   \n",
       "1          Buducnost VOLI Podgorica          78       97.0  Visitante   \n",
       "2           Aris Midea Thessaloniki          66       86.0  Visitante   \n",
       "3                      London Lions          85       92.0  Visitante   \n",
       "4    Mincidelice JL Bourg en Bresse          64       68.0  Visitante   \n",
       "..                              ...         ...        ...        ...   \n",
       "168             Turk Telekom Ankara          80       71.0      Local   \n",
       "169           Veolia Towers Hamburg          97       77.0      Local   \n",
       "170                  Wolves Vilnius         105       78.0      Local   \n",
       "171         Dolomiti Energia Trento          80       70.0      Local   \n",
       "172     Cedevita Olimpija Ljubljana         100       73.0      Local   \n",
       "\n",
       "     Ganador  plusminus  \n",
       "0      113.0       -2.0  \n",
       "1       97.0      -19.0  \n",
       "2       86.0      -20.0  \n",
       "3       92.0       -7.0  \n",
       "4       68.0       -4.0  \n",
       "..       ...        ...  \n",
       "168     80.0        9.0  \n",
       "169     97.0       20.0  \n",
       "170    105.0       27.0  \n",
       "171     80.0       10.0  \n",
       "172    100.0       27.0  \n",
       "\n",
       "[173 rows x 10 columns]"
      ]
     },
     "execution_count": 203,
     "metadata": {},
     "output_type": "execute_result"
    }
   ],
   "source": [
    "# Your Code here: \n",
    "ecteams"
   ]
  },
  {
   "cell_type": "code",
   "execution_count": 35,
   "metadata": {},
   "outputs": [
    {
     "data": {
      "text/plain": [
       "Unnamed: 0    0\n",
       "fecha         0\n",
       "ronda         0\n",
       "local         0\n",
       "visitante     0\n",
       "localscore    0\n",
       "roadscore     1\n",
       "Winner        0\n",
       "Ganador       1\n",
       "plusminus     1\n",
       "dtype: int64"
      ]
     },
     "execution_count": 35,
     "metadata": {},
     "output_type": "execute_result"
    }
   ],
   "source": [
    "ecteams.isna().sum() # buscamos cuantos nules tenemos"
   ]
  },
  {
   "cell_type": "code",
   "execution_count": 72,
   "metadata": {},
   "outputs": [
    {
     "data": {
      "text/html": [
       "<div>\n",
       "<style scoped>\n",
       "    .dataframe tbody tr th:only-of-type {\n",
       "        vertical-align: middle;\n",
       "    }\n",
       "\n",
       "    .dataframe tbody tr th {\n",
       "        vertical-align: top;\n",
       "    }\n",
       "\n",
       "    .dataframe thead th {\n",
       "        text-align: right;\n",
       "    }\n",
       "</style>\n",
       "<table border=\"1\" class=\"dataframe\">\n",
       "  <thead>\n",
       "    <tr style=\"text-align: right;\">\n",
       "      <th></th>\n",
       "      <th>Unnamed: 0</th>\n",
       "      <th>fecha</th>\n",
       "      <th>ronda</th>\n",
       "      <th>local</th>\n",
       "      <th>visitante</th>\n",
       "      <th>localscore</th>\n",
       "      <th>roadscore</th>\n",
       "      <th>Winner</th>\n",
       "      <th>Ganador</th>\n",
       "      <th>plusminus</th>\n",
       "    </tr>\n",
       "  </thead>\n",
       "  <tbody>\n",
       "    <tr>\n",
       "      <th>142</th>\n",
       "      <td>139</td>\n",
       "      <td>2023-10-24T19:30:00</td>\n",
       "      <td>4</td>\n",
       "      <td>Veolia Towers Hamburg</td>\n",
       "      <td>Hapoel Shlomo Tel Aviv</td>\n",
       "      <td>72</td>\n",
       "      <td>NaN</td>\n",
       "      <td>Visitante</td>\n",
       "      <td>NaN</td>\n",
       "      <td>NaN</td>\n",
       "    </tr>\n",
       "  </tbody>\n",
       "</table>\n",
       "</div>"
      ],
      "text/plain": [
       "     Unnamed: 0                fecha  ronda                  local  \\\n",
       "142         139  2023-10-24T19:30:00      4  Veolia Towers Hamburg   \n",
       "\n",
       "                  visitante  localscore  roadscore     Winner  Ganador  \\\n",
       "142  Hapoel Shlomo Tel Aviv          72        NaN  Visitante      NaN   \n",
       "\n",
       "     plusminus  \n",
       "142        NaN  "
      ]
     },
     "execution_count": 72,
     "metadata": {},
     "output_type": "execute_result"
    }
   ],
   "source": [
    "ecteams.loc[ecteams['roadscore'].isna(), :] # en que fila está"
   ]
  },
  {
   "cell_type": "code",
   "execution_count": 99,
   "metadata": {},
   "outputs": [
    {
     "data": {
      "text/plain": [
       "170"
      ]
     },
     "execution_count": 99,
     "metadata": {},
     "output_type": "execute_result"
    }
   ],
   "source": [
    "len(ecteams) # compruebo la length"
   ]
  },
  {
   "cell_type": "code",
   "execution_count": 100,
   "metadata": {},
   "outputs": [],
   "source": [
    "ecteams.dropna(inplace=True) # me cargo la fila de los nules"
   ]
  },
  {
   "cell_type": "code",
   "execution_count": 98,
   "metadata": {},
   "outputs": [
    {
     "data": {
      "text/plain": [
       "170"
      ]
     },
     "execution_count": 98,
     "metadata": {},
     "output_type": "execute_result"
    }
   ],
   "source": [
    "len(ecteams) # compruebo que el df tiene una fila menos"
   ]
  },
  {
   "cell_type": "code",
   "execution_count": 173,
   "metadata": {},
   "outputs": [
    {
     "data": {
      "text/plain": [
       "0"
      ]
     },
     "execution_count": 173,
     "metadata": {},
     "output_type": "execute_result"
    }
   ],
   "source": [
    "ecteams.duplicated().sum() # calculo el num de filas duplicadas"
   ]
  },
  {
   "cell_type": "code",
   "execution_count": 103,
   "metadata": {},
   "outputs": [
    {
     "data": {
      "text/plain": [
       "(170, 10)"
      ]
     },
     "execution_count": 103,
     "metadata": {},
     "output_type": "execute_result"
    }
   ],
   "source": [
    "ecteams.drop_duplicates(inplace=True) # me las cargo y veo que ahora tengo 2 filas menos\n",
    "ecteams.shape"
   ]
  },
  {
   "cell_type": "code",
   "execution_count": 128,
   "metadata": {},
   "outputs": [
    {
     "name": "stdout",
     "output_type": "stream",
     "text": [
      "120\n",
      "120.0\n",
      "114.0\n",
      "Winner\n",
      "Local        90\n",
      "Visitante    80\n",
      "Name: count, dtype: int64\n",
      "ronda\n",
      "17    10\n",
      "9     10\n",
      "3     10\n",
      "4     10\n",
      "5     10\n",
      "6     10\n",
      "7     10\n",
      "8     10\n",
      "10    10\n",
      "16    10\n",
      "11    10\n",
      "12    10\n",
      "13    10\n",
      "2     10\n",
      "14    10\n",
      "15    10\n",
      "1     10\n",
      "Name: count, dtype: int64\n",
      "Unnamed: 0      int64\n",
      "fecha          object\n",
      "ronda           int64\n",
      "local          object\n",
      "visitante      object\n",
      "localscore      int64\n",
      "roadscore     float64\n",
      "Winner         object\n",
      "Ganador       float64\n",
      "plusminus     float64\n",
      "dtype: object\n",
      "Index(['Unnamed: 0', 'fecha', 'ronda', 'local', 'visitante', 'localscore',\n",
      "       'roadscore', 'Winner', 'Ganador', 'plusminus'],\n",
      "      dtype='object')\n"
     ]
    }
   ],
   "source": [
    "# Analizemos si hay algun valor estraño\n",
    "\n",
    "print(ecteams.localscore.max())\n",
    "print(ecteams.Ganador.max())\n",
    "print(ecteams.roadscore.max())\n",
    "print(ecteams.Winner.value_counts())\n",
    "print(ecteams.ronda.value_counts())\n",
    "print(ecteams.dtypes)\n",
    "print(ecteams.columns)"
   ]
  },
  {
   "cell_type": "code",
   "execution_count": null,
   "metadata": {},
   "outputs": [],
   "source": [
    "# parece que está todo en orden"
   ]
  },
  {
   "cell_type": "markdown",
   "metadata": {},
   "source": [
    "Let's now compare it with the EL dataset that we have: You might select a sample of both of them and see what are the inconsistencies!"
   ]
  },
  {
   "cell_type": "code",
   "execution_count": 107,
   "metadata": {},
   "outputs": [
    {
     "data": {
      "text/html": [
       "<div>\n",
       "<style scoped>\n",
       "    .dataframe tbody tr th:only-of-type {\n",
       "        vertical-align: middle;\n",
       "    }\n",
       "\n",
       "    .dataframe tbody tr th {\n",
       "        vertical-align: top;\n",
       "    }\n",
       "\n",
       "    .dataframe thead th {\n",
       "        text-align: right;\n",
       "    }\n",
       "</style>\n",
       "<table border=\"1\" class=\"dataframe\">\n",
       "  <thead>\n",
       "    <tr style=\"text-align: right;\">\n",
       "      <th></th>\n",
       "      <th>Unnamed: 0</th>\n",
       "      <th>fecha</th>\n",
       "      <th>ronda</th>\n",
       "      <th>local</th>\n",
       "      <th>visitante</th>\n",
       "      <th>localscore</th>\n",
       "      <th>roadscore</th>\n",
       "      <th>Winner</th>\n",
       "      <th>Ganador</th>\n",
       "      <th>plusminus</th>\n",
       "    </tr>\n",
       "  </thead>\n",
       "  <tbody>\n",
       "    <tr>\n",
       "      <th>75</th>\n",
       "      <td>75</td>\n",
       "      <td>2023-12-06T18:00:00</td>\n",
       "      <td>10</td>\n",
       "      <td>Besiktas Emlakjet Istanbul</td>\n",
       "      <td>Joventut Badalona</td>\n",
       "      <td>81</td>\n",
       "      <td>85.0</td>\n",
       "      <td>Visitante</td>\n",
       "      <td>85.0</td>\n",
       "      <td>-4.0</td>\n",
       "    </tr>\n",
       "  </tbody>\n",
       "</table>\n",
       "</div>"
      ],
      "text/plain": [
       "    Unnamed: 0                fecha  ronda                       local  \\\n",
       "75          75  2023-12-06T18:00:00     10  Besiktas Emlakjet Istanbul   \n",
       "\n",
       "            visitante  localscore  roadscore     Winner  Ganador  plusminus  \n",
       "75  Joventut Badalona          81       85.0  Visitante     85.0       -4.0  "
      ]
     },
     "execution_count": 107,
     "metadata": {},
     "output_type": "execute_result"
    }
   ],
   "source": [
    "#Your sample ecteams code here: \n",
    "ecteams.sample()"
   ]
  },
  {
   "cell_type": "code",
   "execution_count": 129,
   "metadata": {},
   "outputs": [
    {
     "data": {
      "text/html": [
       "<div>\n",
       "<style scoped>\n",
       "    .dataframe tbody tr th:only-of-type {\n",
       "        vertical-align: middle;\n",
       "    }\n",
       "\n",
       "    .dataframe tbody tr th {\n",
       "        vertical-align: top;\n",
       "    }\n",
       "\n",
       "    .dataframe thead th {\n",
       "        text-align: right;\n",
       "    }\n",
       "</style>\n",
       "<table border=\"1\" class=\"dataframe\">\n",
       "  <thead>\n",
       "    <tr style=\"text-align: right;\">\n",
       "      <th></th>\n",
       "      <th>Competition</th>\n",
       "      <th>Phase</th>\n",
       "      <th>Ronda</th>\n",
       "      <th>Dia</th>\n",
       "      <th>Hora</th>\n",
       "      <th>Local</th>\n",
       "      <th>Visitante</th>\n",
       "      <th>Localscore</th>\n",
       "      <th>Roadscore</th>\n",
       "      <th>Arbitros</th>\n",
       "      <th>Plusminus</th>\n",
       "      <th>Winner</th>\n",
       "      <th>Ganador</th>\n",
       "    </tr>\n",
       "  </thead>\n",
       "  <tbody>\n",
       "    <tr>\n",
       "      <th>187</th>\n",
       "      <td>Euroleague</td>\n",
       "      <td>Regular Season</td>\n",
       "      <td>21</td>\n",
       "      <td>2024-01-12</td>\n",
       "      <td>20:30:00</td>\n",
       "      <td>FC Barcelona</td>\n",
       "      <td>Zalgiris Kaunas</td>\n",
       "      <td>91</td>\n",
       "      <td>73</td>\n",
       "      <td>['PATERNICO, CARMELO', 'DRAGOJEVIC, IGOR', 'TH...</td>\n",
       "      <td>18</td>\n",
       "      <td>FC Barcelona</td>\n",
       "      <td>Local</td>\n",
       "    </tr>\n",
       "  </tbody>\n",
       "</table>\n",
       "</div>"
      ],
      "text/plain": [
       "    Competition           Phase  Ronda         Dia      Hora         Local  \\\n",
       "187  Euroleague  Regular Season     21  2024-01-12  20:30:00  FC Barcelona   \n",
       "\n",
       "           Visitante  Localscore  Roadscore  \\\n",
       "187  Zalgiris Kaunas          91         73   \n",
       "\n",
       "                                              Arbitros  Plusminus  \\\n",
       "187  ['PATERNICO, CARMELO', 'DRAGOJEVIC, IGOR', 'TH...         18   \n",
       "\n",
       "           Winner Ganador  \n",
       "187  FC Barcelona   Local  "
      ]
     },
     "execution_count": 129,
     "metadata": {},
     "output_type": "execute_result"
    }
   ],
   "source": [
    "#Your sample elteams code here: \n",
    "elteams.sample()"
   ]
  },
  {
   "cell_type": "markdown",
   "metadata": {},
   "source": [
    "What are the inconsistencies that you are seeing? Write them down!\n",
    "\n",
    "- EL tiene más columnas: Competition, Phase y Arbitros\n",
    "- Los nombres de las columnas estan capitalizados\n",
    "- La 'fecha' está separada en dos columnas: dia y hora\n",
    "- No tenemos informació de los árbitros en EC\n",
    "- EC tiene una columna de indices: 'Unnamed:0'\n",
    "- EL: la columna 'Winner' muestra el nombre del equipo, no sólo Local o Visitante\n",
    "- EC: la columna 'Ganador' muestra el score del equipo ganador, en EL muestra si ganó el equipo local o el visitante.\n",
    "- Es decir, EC 'Winner' y EL 'Ganador' son iguales.\n",
    "\n",
    "<details>\n",
    "    <summary> Expand the box to see the inconsistencies </summary>\n",
    "\n",
    "- The columns are named in lowercase and the columns in Euroleague are capitalized\n",
    "- There are some missing columns (f.e. Arbitros)\n",
    "- Fecha is not split in Dia and Hora\n",
    "- `Winner and Ganador Columns show different data` are not the same! Be extremely careful about it\n",
    "\n",
    "</details>"
   ]
  },
  {
   "cell_type": "markdown",
   "metadata": {},
   "source": [
    "As you can see there are a lot of different inconsistencies right? \n",
    "But beofore starting cleaning like crazy people, let's take a second to know what do we want to compare: \n",
    "\n",
    "- The CLUBS are impossible to compare, as different competitions defines different clubs\n",
    "- Both rounds (Eurocup has less rounds) and Dates (Different Dates) are also not really useful\n",
    "- We don't have information about Arbitros\n",
    "\n",
    "## Conclusion\n",
    "\n",
    "### We must take into consideration what data we DO have in both dataframes to compare it propperly and don't use time cleaning unnecessary things. \n",
    "\n",
    "In this particular case, we will need to compare: \n"
   ]
  },
  {
   "cell_type": "markdown",
   "metadata": {},
   "source": [
    "`Competition`: The main column that define one from another. \n",
    "\n",
    "Create the Competition column in the EuroCup dataframe, being the fixed value \"Eurocup\""
   ]
  },
  {
   "cell_type": "code",
   "execution_count": 133,
   "metadata": {},
   "outputs": [],
   "source": [
    "#Your Code here: \n",
    "ecteams['Competition'] = 'Eurocup'"
   ]
  },
  {
   "cell_type": "code",
   "execution_count": 136,
   "metadata": {},
   "outputs": [
    {
     "data": {
      "text/html": [
       "<div>\n",
       "<style scoped>\n",
       "    .dataframe tbody tr th:only-of-type {\n",
       "        vertical-align: middle;\n",
       "    }\n",
       "\n",
       "    .dataframe tbody tr th {\n",
       "        vertical-align: top;\n",
       "    }\n",
       "\n",
       "    .dataframe thead th {\n",
       "        text-align: right;\n",
       "    }\n",
       "</style>\n",
       "<table border=\"1\" class=\"dataframe\">\n",
       "  <thead>\n",
       "    <tr style=\"text-align: right;\">\n",
       "      <th></th>\n",
       "      <th>Unnamed: 0</th>\n",
       "      <th>fecha</th>\n",
       "      <th>ronda</th>\n",
       "      <th>local</th>\n",
       "      <th>visitante</th>\n",
       "      <th>localscore</th>\n",
       "      <th>roadscore</th>\n",
       "      <th>Winner</th>\n",
       "      <th>Ganador</th>\n",
       "      <th>plusminus</th>\n",
       "      <th>Competition</th>\n",
       "    </tr>\n",
       "  </thead>\n",
       "  <tbody>\n",
       "    <tr>\n",
       "      <th>122</th>\n",
       "      <td>120</td>\n",
       "      <td>2023-11-07T18:00:00</td>\n",
       "      <td>6</td>\n",
       "      <td>7bet-Lietkabelis Panevezys</td>\n",
       "      <td>Mincidelice JL Bourg en Bresse</td>\n",
       "      <td>100</td>\n",
       "      <td>96.0</td>\n",
       "      <td>Local</td>\n",
       "      <td>100.0</td>\n",
       "      <td>4.0</td>\n",
       "      <td>Eurocup</td>\n",
       "    </tr>\n",
       "  </tbody>\n",
       "</table>\n",
       "</div>"
      ],
      "text/plain": [
       "     Unnamed: 0                fecha  ronda                       local  \\\n",
       "122         120  2023-11-07T18:00:00      6  7bet-Lietkabelis Panevezys   \n",
       "\n",
       "                          visitante  localscore  roadscore Winner  Ganador  \\\n",
       "122  Mincidelice JL Bourg en Bresse         100       96.0  Local    100.0   \n",
       "\n",
       "     plusminus Competition  \n",
       "122        4.0     Eurocup  "
      ]
     },
     "execution_count": 136,
     "metadata": {},
     "output_type": "execute_result"
    }
   ],
   "source": [
    "ecteams.sample()"
   ]
  },
  {
   "cell_type": "markdown",
   "metadata": {},
   "source": [
    "`Ganador`: Being the actual values \"Local\" or \"Visitante\"\n",
    "\n",
    "**BE CAREFUL**: Before changing the correct column to \"Ganador\" from the EC dataframe, there is a \"Ganador\" column with the incorrect information: STEP BY STEP!"
   ]
  },
  {
   "cell_type": "code",
   "execution_count": 138,
   "metadata": {},
   "outputs": [],
   "source": [
    "#Drop the Column Ganador from the Eurocup Dataframe\n",
    "ecteams.drop(columns='Ganador', inplace=True)"
   ]
  },
  {
   "cell_type": "code",
   "execution_count": 149,
   "metadata": {},
   "outputs": [
    {
     "data": {
      "text/html": [
       "<div>\n",
       "<style scoped>\n",
       "    .dataframe tbody tr th:only-of-type {\n",
       "        vertical-align: middle;\n",
       "    }\n",
       "\n",
       "    .dataframe tbody tr th {\n",
       "        vertical-align: top;\n",
       "    }\n",
       "\n",
       "    .dataframe thead th {\n",
       "        text-align: right;\n",
       "    }\n",
       "</style>\n",
       "<table border=\"1\" class=\"dataframe\">\n",
       "  <thead>\n",
       "    <tr style=\"text-align: right;\">\n",
       "      <th></th>\n",
       "      <th>Unnamed: 0</th>\n",
       "      <th>Fecha</th>\n",
       "      <th>Ronda</th>\n",
       "      <th>Local</th>\n",
       "      <th>Visitante</th>\n",
       "      <th>Localscore</th>\n",
       "      <th>Roadscore</th>\n",
       "      <th>Ganador</th>\n",
       "      <th>Plusminus</th>\n",
       "      <th>Competition</th>\n",
       "    </tr>\n",
       "  </thead>\n",
       "  <tbody>\n",
       "    <tr>\n",
       "      <th>19</th>\n",
       "      <td>19</td>\n",
       "      <td>2024-01-23T18:00:00</td>\n",
       "      <td>16</td>\n",
       "      <td>U-BT Cluj-Napoca</td>\n",
       "      <td>Dolomiti Energia Trento</td>\n",
       "      <td>88</td>\n",
       "      <td>83.0</td>\n",
       "      <td>Local</td>\n",
       "      <td>5.0</td>\n",
       "      <td>Eurocup</td>\n",
       "    </tr>\n",
       "  </tbody>\n",
       "</table>\n",
       "</div>"
      ],
      "text/plain": [
       "    Unnamed: 0                Fecha  Ronda             Local  \\\n",
       "19          19  2024-01-23T18:00:00     16  U-BT Cluj-Napoca   \n",
       "\n",
       "                  Visitante  Localscore  Roadscore Ganador  Plusminus  \\\n",
       "19  Dolomiti Energia Trento          88       83.0   Local        5.0   \n",
       "\n",
       "   Competition  \n",
       "19     Eurocup  "
      ]
     },
     "execution_count": 149,
     "metadata": {},
     "output_type": "execute_result"
    }
   ],
   "source": [
    "#Rename the column with the actual information to \"Ganador\"\n",
    "ecteams.rename(columns={'Winner':'Ganador'}, inplace=True)\n",
    "ecteams.sample()"
   ]
  },
  {
   "cell_type": "markdown",
   "metadata": {},
   "source": [
    "As seen in the first look at the dataframes, there was a problem with the columns: Are lower when they should be Capitalized, as in the Euroleague DataFrame. Change the column names to capitalize. \n",
    "\n",
    "is there a quick way to do it?"
   ]
  },
  {
   "cell_type": "code",
   "execution_count": 154,
   "metadata": {},
   "outputs": [
    {
     "data": {
      "text/html": [
       "<div>\n",
       "<style scoped>\n",
       "    .dataframe tbody tr th:only-of-type {\n",
       "        vertical-align: middle;\n",
       "    }\n",
       "\n",
       "    .dataframe tbody tr th {\n",
       "        vertical-align: top;\n",
       "    }\n",
       "\n",
       "    .dataframe thead th {\n",
       "        text-align: right;\n",
       "    }\n",
       "</style>\n",
       "<table border=\"1\" class=\"dataframe\">\n",
       "  <thead>\n",
       "    <tr style=\"text-align: right;\">\n",
       "      <th></th>\n",
       "      <th>Unnamed: 0</th>\n",
       "      <th>Fecha</th>\n",
       "      <th>Ronda</th>\n",
       "      <th>Local</th>\n",
       "      <th>Visitante</th>\n",
       "      <th>Localscore</th>\n",
       "      <th>Roadscore</th>\n",
       "      <th>Ganador</th>\n",
       "      <th>Plusminus</th>\n",
       "      <th>Competition</th>\n",
       "    </tr>\n",
       "  </thead>\n",
       "  <tbody>\n",
       "    <tr>\n",
       "      <th>12</th>\n",
       "      <td>12</td>\n",
       "      <td>2024-01-24T20:00:00</td>\n",
       "      <td>16</td>\n",
       "      <td>Umana Reyer Venice</td>\n",
       "      <td>Wolves Vilnius</td>\n",
       "      <td>57</td>\n",
       "      <td>75.0</td>\n",
       "      <td>Visitante</td>\n",
       "      <td>-18.0</td>\n",
       "      <td>Eurocup</td>\n",
       "    </tr>\n",
       "  </tbody>\n",
       "</table>\n",
       "</div>"
      ],
      "text/plain": [
       "    Unnamed: 0                Fecha  Ronda               Local  \\\n",
       "12          12  2024-01-24T20:00:00     16  Umana Reyer Venice   \n",
       "\n",
       "         Visitante  Localscore  Roadscore    Ganador  Plusminus Competition  \n",
       "12  Wolves Vilnius          57       75.0  Visitante      -18.0     Eurocup  "
      ]
     },
     "execution_count": 154,
     "metadata": {},
     "output_type": "execute_result"
    }
   ],
   "source": [
    "# Your code here: \n",
    "columnas_minusc = {i:i.capitalize() for i in ecteams.columns}\n",
    "ecteams.rename(columns = columnas_minusc, inplace=True)\n",
    "ecteams.sample()"
   ]
  },
  {
   "cell_type": "markdown",
   "metadata": {},
   "source": [
    "Now it is time to just take the useful columns from each data! We will call the result subsets `comp_el` and `comp_ec`\n",
    "\n",
    "REMEMBER: Use the same order of the columns for each dataset. \n",
    "\n",
    "Recommended order: Competition, Localscore, Roadscore, Plusminus, Ganador. **Nothing else is useful**"
   ]
  },
  {
   "cell_type": "code",
   "execution_count": 157,
   "metadata": {},
   "outputs": [
    {
     "data": {
      "text/html": [
       "<div>\n",
       "<style scoped>\n",
       "    .dataframe tbody tr th:only-of-type {\n",
       "        vertical-align: middle;\n",
       "    }\n",
       "\n",
       "    .dataframe tbody tr th {\n",
       "        vertical-align: top;\n",
       "    }\n",
       "\n",
       "    .dataframe thead th {\n",
       "        text-align: right;\n",
       "    }\n",
       "</style>\n",
       "<table border=\"1\" class=\"dataframe\">\n",
       "  <thead>\n",
       "    <tr style=\"text-align: right;\">\n",
       "      <th></th>\n",
       "      <th>Competition</th>\n",
       "      <th>Localscore</th>\n",
       "      <th>Roadscore</th>\n",
       "      <th>Plusminus</th>\n",
       "      <th>Ganador</th>\n",
       "    </tr>\n",
       "  </thead>\n",
       "  <tbody>\n",
       "    <tr>\n",
       "      <th>152</th>\n",
       "      <td>Eurocup</td>\n",
       "      <td>92</td>\n",
       "      <td>88.0</td>\n",
       "      <td>4.0</td>\n",
       "      <td>Local</td>\n",
       "    </tr>\n",
       "  </tbody>\n",
       "</table>\n",
       "</div>"
      ],
      "text/plain": [
       "    Competition  Localscore  Roadscore  Plusminus Ganador\n",
       "152     Eurocup          92       88.0        4.0   Local"
      ]
     },
     "execution_count": 157,
     "metadata": {},
     "output_type": "execute_result"
    }
   ],
   "source": [
    "# Your code here: \n",
    "comp_ec = ecteams[['Competition', 'Localscore', 'Roadscore', 'Plusminus', 'Ganador']]\n",
    "comp_ec.sample()"
   ]
  },
  {
   "cell_type": "code",
   "execution_count": 158,
   "metadata": {},
   "outputs": [
    {
     "data": {
      "text/html": [
       "<div>\n",
       "<style scoped>\n",
       "    .dataframe tbody tr th:only-of-type {\n",
       "        vertical-align: middle;\n",
       "    }\n",
       "\n",
       "    .dataframe tbody tr th {\n",
       "        vertical-align: top;\n",
       "    }\n",
       "\n",
       "    .dataframe thead th {\n",
       "        text-align: right;\n",
       "    }\n",
       "</style>\n",
       "<table border=\"1\" class=\"dataframe\">\n",
       "  <thead>\n",
       "    <tr style=\"text-align: right;\">\n",
       "      <th></th>\n",
       "      <th>Competition</th>\n",
       "      <th>Localscore</th>\n",
       "      <th>Roadscore</th>\n",
       "      <th>Plusminus</th>\n",
       "      <th>Ganador</th>\n",
       "    </tr>\n",
       "  </thead>\n",
       "  <tbody>\n",
       "    <tr>\n",
       "      <th>161</th>\n",
       "      <td>Euroleague</td>\n",
       "      <td>83</td>\n",
       "      <td>78</td>\n",
       "      <td>5</td>\n",
       "      <td>Local</td>\n",
       "    </tr>\n",
       "  </tbody>\n",
       "</table>\n",
       "</div>"
      ],
      "text/plain": [
       "    Competition  Localscore  Roadscore  Plusminus Ganador\n",
       "161  Euroleague          83         78          5   Local"
      ]
     },
     "execution_count": 158,
     "metadata": {},
     "output_type": "execute_result"
    }
   ],
   "source": [
    "comp_el = elteams[['Competition', 'Localscore', 'Roadscore', 'Plusminus', 'Ganador']]\n",
    "comp_el.sample()"
   ]
  },
  {
   "cell_type": "markdown",
   "metadata": {},
   "source": [
    "Time to concatenate them both! Create a concat of both Dfs, called `competition`"
   ]
  },
  {
   "cell_type": "code",
   "execution_count": 219,
   "metadata": {},
   "outputs": [
    {
     "data": {
      "text/html": [
       "<div>\n",
       "<style scoped>\n",
       "    .dataframe tbody tr th:only-of-type {\n",
       "        vertical-align: middle;\n",
       "    }\n",
       "\n",
       "    .dataframe tbody tr th {\n",
       "        vertical-align: top;\n",
       "    }\n",
       "\n",
       "    .dataframe thead th {\n",
       "        text-align: right;\n",
       "    }\n",
       "</style>\n",
       "<table border=\"1\" class=\"dataframe\">\n",
       "  <thead>\n",
       "    <tr style=\"text-align: right;\">\n",
       "      <th></th>\n",
       "      <th>Competition</th>\n",
       "      <th>Localscore</th>\n",
       "      <th>Roadscore</th>\n",
       "      <th>Plusminus</th>\n",
       "      <th>Ganador</th>\n",
       "    </tr>\n",
       "  </thead>\n",
       "  <tbody>\n",
       "    <tr>\n",
       "      <th>0</th>\n",
       "      <td>Eurocup</td>\n",
       "      <td>111</td>\n",
       "      <td>113.0</td>\n",
       "      <td>-2.0</td>\n",
       "      <td>Visitante</td>\n",
       "    </tr>\n",
       "    <tr>\n",
       "      <th>1</th>\n",
       "      <td>Eurocup</td>\n",
       "      <td>78</td>\n",
       "      <td>97.0</td>\n",
       "      <td>-19.0</td>\n",
       "      <td>Visitante</td>\n",
       "    </tr>\n",
       "    <tr>\n",
       "      <th>2</th>\n",
       "      <td>Eurocup</td>\n",
       "      <td>66</td>\n",
       "      <td>86.0</td>\n",
       "      <td>-20.0</td>\n",
       "      <td>Visitante</td>\n",
       "    </tr>\n",
       "    <tr>\n",
       "      <th>3</th>\n",
       "      <td>Eurocup</td>\n",
       "      <td>85</td>\n",
       "      <td>92.0</td>\n",
       "      <td>-7.0</td>\n",
       "      <td>Visitante</td>\n",
       "    </tr>\n",
       "    <tr>\n",
       "      <th>4</th>\n",
       "      <td>Eurocup</td>\n",
       "      <td>64</td>\n",
       "      <td>68.0</td>\n",
       "      <td>-4.0</td>\n",
       "      <td>Visitante</td>\n",
       "    </tr>\n",
       "    <tr>\n",
       "      <th>...</th>\n",
       "      <td>...</td>\n",
       "      <td>...</td>\n",
       "      <td>...</td>\n",
       "      <td>...</td>\n",
       "      <td>...</td>\n",
       "    </tr>\n",
       "    <tr>\n",
       "      <th>220</th>\n",
       "      <td>Euroleague</td>\n",
       "      <td>79</td>\n",
       "      <td>73.0</td>\n",
       "      <td>6.0</td>\n",
       "      <td>Local</td>\n",
       "    </tr>\n",
       "    <tr>\n",
       "      <th>221</th>\n",
       "      <td>Euroleague</td>\n",
       "      <td>80</td>\n",
       "      <td>68.0</td>\n",
       "      <td>12.0</td>\n",
       "      <td>Local</td>\n",
       "    </tr>\n",
       "    <tr>\n",
       "      <th>222</th>\n",
       "      <td>Euroleague</td>\n",
       "      <td>76</td>\n",
       "      <td>85.0</td>\n",
       "      <td>-9.0</td>\n",
       "      <td>Visitante</td>\n",
       "    </tr>\n",
       "    <tr>\n",
       "      <th>223</th>\n",
       "      <td>Euroleague</td>\n",
       "      <td>88</td>\n",
       "      <td>84.0</td>\n",
       "      <td>4.0</td>\n",
       "      <td>Local</td>\n",
       "    </tr>\n",
       "    <tr>\n",
       "      <th>224</th>\n",
       "      <td>Euroleague</td>\n",
       "      <td>76</td>\n",
       "      <td>69.0</td>\n",
       "      <td>7.0</td>\n",
       "      <td>Local</td>\n",
       "    </tr>\n",
       "  </tbody>\n",
       "</table>\n",
       "<p>395 rows × 5 columns</p>\n",
       "</div>"
      ],
      "text/plain": [
       "    Competition  Localscore  Roadscore  Plusminus    Ganador\n",
       "0       Eurocup         111      113.0       -2.0  Visitante\n",
       "1       Eurocup          78       97.0      -19.0  Visitante\n",
       "2       Eurocup          66       86.0      -20.0  Visitante\n",
       "3       Eurocup          85       92.0       -7.0  Visitante\n",
       "4       Eurocup          64       68.0       -4.0  Visitante\n",
       "..          ...         ...        ...        ...        ...\n",
       "220  Euroleague          79       73.0        6.0      Local\n",
       "221  Euroleague          80       68.0       12.0      Local\n",
       "222  Euroleague          76       85.0       -9.0  Visitante\n",
       "223  Euroleague          88       84.0        4.0      Local\n",
       "224  Euroleague          76       69.0        7.0      Local\n",
       "\n",
       "[395 rows x 5 columns]"
      ]
     },
     "execution_count": 219,
     "metadata": {},
     "output_type": "execute_result"
    }
   ],
   "source": [
    "# Your code here: \n",
    "competition = pd.concat([comp_ec, comp_el])\n",
    "competition"
   ]
  },
  {
   "cell_type": "markdown",
   "metadata": {},
   "source": [
    "## Well done!\n",
    "\n",
    "Now we have the combination of both competitions in the same dataframe. Is time for the questions you must answer: "
   ]
  },
  {
   "cell_type": "markdown",
   "metadata": {},
   "source": [
    "1. How many matches have been in each competition?\n",
    "2. What are the maximum points that a local team has scored per competition? And the road team as well. \n",
    "3. Do the same operations with the average points (per competition)\n",
    "4. Can you tell me the maximum difference that has been in a match, splitted by competition? \n",
    "    - Careful: The Plusminus is both positive and negative, being negative that the Road Team has achieved the Victory. To have the absolute, create a new Column named Absolut_Plusminus. Remember: np.where is life!\n",
    "5. Also grouped by competition, give me the number of victories of the Locals and the Visitors"
   ]
  },
  {
   "cell_type": "code",
   "execution_count": 342,
   "metadata": {},
   "outputs": [
    {
     "data": {
      "text/html": [
       "<div>\n",
       "<style scoped>\n",
       "    .dataframe tbody tr th:only-of-type {\n",
       "        vertical-align: middle;\n",
       "    }\n",
       "\n",
       "    .dataframe tbody tr th {\n",
       "        vertical-align: top;\n",
       "    }\n",
       "\n",
       "    .dataframe thead th {\n",
       "        text-align: right;\n",
       "    }\n",
       "</style>\n",
       "<table border=\"1\" class=\"dataframe\">\n",
       "  <thead>\n",
       "    <tr style=\"text-align: right;\">\n",
       "      <th></th>\n",
       "      <th>Ganador</th>\n",
       "    </tr>\n",
       "    <tr>\n",
       "      <th>Competition</th>\n",
       "      <th></th>\n",
       "    </tr>\n",
       "  </thead>\n",
       "  <tbody>\n",
       "    <tr>\n",
       "      <th>Eurocup</th>\n",
       "      <td>170</td>\n",
       "    </tr>\n",
       "    <tr>\n",
       "      <th>Euroleague</th>\n",
       "      <td>225</td>\n",
       "    </tr>\n",
       "  </tbody>\n",
       "</table>\n",
       "</div>"
      ],
      "text/plain": [
       "             Ganador\n",
       "Competition         \n",
       "Eurocup          170\n",
       "Euroleague       225"
      ]
     },
     "execution_count": 342,
     "metadata": {},
     "output_type": "execute_result"
    }
   ],
   "source": [
    "# 1 with groupby\n",
    "competition[['Competition', 'Ganador']].groupby('Competition').count()"
   ]
  },
  {
   "cell_type": "code",
   "execution_count": 236,
   "metadata": {},
   "outputs": [
    {
     "name": "stdout",
     "output_type": "stream",
     "text": [
      "Eurocup Matches: 170\n",
      "Euroleague Matches: 225\n"
     ]
    }
   ],
   "source": [
    "# 1 with the 'Competition' df\n",
    "print(f\"Eurocup Matches: {len(competition[competition['Competition'] == 'Eurocup'])}\")\n",
    "print(f\"Euroleague Matches: {len(competition[competition['Competition'] == 'Euroleague'])}\")"
   ]
  },
  {
   "cell_type": "code",
   "execution_count": 237,
   "metadata": {},
   "outputs": [
    {
     "name": "stdout",
     "output_type": "stream",
     "text": [
      "Eurocup Matches: 170\n",
      "Euroleague Matches: 225\n"
     ]
    }
   ],
   "source": [
    "# 1 although is easier to do it with the previous df\n",
    "print(f\"Eurocup Matches: {len(comp_ec)}\")\n",
    "print(f\"Euroleague Matches: {len(comp_el)}\")"
   ]
  },
  {
   "cell_type": "code",
   "execution_count": 360,
   "metadata": {},
   "outputs": [
    {
     "data": {
      "text/html": [
       "<div>\n",
       "<style scoped>\n",
       "    .dataframe tbody tr th:only-of-type {\n",
       "        vertical-align: middle;\n",
       "    }\n",
       "\n",
       "    .dataframe tbody tr th {\n",
       "        vertical-align: top;\n",
       "    }\n",
       "\n",
       "    .dataframe thead th {\n",
       "        text-align: right;\n",
       "    }\n",
       "</style>\n",
       "<table border=\"1\" class=\"dataframe\">\n",
       "  <thead>\n",
       "    <tr style=\"text-align: right;\">\n",
       "      <th></th>\n",
       "      <th>Localscore</th>\n",
       "      <th>Roadscore</th>\n",
       "    </tr>\n",
       "    <tr>\n",
       "      <th>Competition</th>\n",
       "      <th></th>\n",
       "      <th></th>\n",
       "    </tr>\n",
       "  </thead>\n",
       "  <tbody>\n",
       "    <tr>\n",
       "      <th>Eurocup</th>\n",
       "      <td>120</td>\n",
       "      <td>114</td>\n",
       "    </tr>\n",
       "    <tr>\n",
       "      <th>Euroleague</th>\n",
       "      <td>130</td>\n",
       "      <td>126</td>\n",
       "    </tr>\n",
       "  </tbody>\n",
       "</table>\n",
       "</div>"
      ],
      "text/plain": [
       "             Localscore  Roadscore\n",
       "Competition                       \n",
       "Eurocup             120        114\n",
       "Euroleague          130        126"
      ]
     },
     "execution_count": 360,
     "metadata": {},
     "output_type": "execute_result"
    }
   ],
   "source": [
    "# 2 What are the maximum points that a local team has scored per competition? And the road team as well. \n",
    "\n",
    "# la manera más fácil\n",
    "max_points = competition[['Competition', 'Localscore', 'Roadscore']].groupby('Competition').max()\n",
    "max_points.astype(int)"
   ]
  },
  {
   "cell_type": "code",
   "execution_count": 350,
   "metadata": {},
   "outputs": [
    {
     "name": "stdout",
     "output_type": "stream",
     "text": [
      "Eurocup\n",
      "Maximum points scored by the local team: 120\n",
      "Maximum points scored by the road team: 114\n",
      "\n",
      "Euroleague\n",
      "Maximum points scored by the local team: 130\n",
      "Maximum points scored by the road team: 126\n"
     ]
    }
   ],
   "source": [
    "# 2 What are the maximum points that a local team has scored per competition? And the road team as well. \n",
    "EC = competition[competition['Competition'] == 'Eurocup']\n",
    "print(\"Eurocup\")\n",
    "print(f\"Maximum points scored by the local team: {EC.Localscore.max()}\")\n",
    "print(f\"Maximum points scored by the road team: {int(EC.Roadscore.max())}\")\n",
    "print(\"\")\n",
    "EL = competition[competition['Competition'] == 'Euroleague']\n",
    "print(\"Euroleague\")\n",
    "print(f\"Maximum points scored by the local team: {EL.Localscore.max()}\")\n",
    "print(f\"Maximum points scored by the road team: {int(EL.Roadscore.max())}\")"
   ]
  },
  {
   "cell_type": "code",
   "execution_count": 395,
   "metadata": {},
   "outputs": [
    {
     "data": {
      "text/html": [
       "<div>\n",
       "<style scoped>\n",
       "    .dataframe tbody tr th:only-of-type {\n",
       "        vertical-align: middle;\n",
       "    }\n",
       "\n",
       "    .dataframe tbody tr th {\n",
       "        vertical-align: top;\n",
       "    }\n",
       "\n",
       "    .dataframe thead th {\n",
       "        text-align: right;\n",
       "    }\n",
       "</style>\n",
       "<table border=\"1\" class=\"dataframe\">\n",
       "  <thead>\n",
       "    <tr style=\"text-align: right;\">\n",
       "      <th></th>\n",
       "      <th>Localscore</th>\n",
       "      <th>Roadscore</th>\n",
       "    </tr>\n",
       "    <tr>\n",
       "      <th>Competition</th>\n",
       "      <th></th>\n",
       "      <th></th>\n",
       "    </tr>\n",
       "  </thead>\n",
       "  <tbody>\n",
       "    <tr>\n",
       "      <th>Eurocup</th>\n",
       "      <td>85.24</td>\n",
       "      <td>83.96</td>\n",
       "    </tr>\n",
       "    <tr>\n",
       "      <th>Euroleague</th>\n",
       "      <td>83.28</td>\n",
       "      <td>79.17</td>\n",
       "    </tr>\n",
       "  </tbody>\n",
       "</table>\n",
       "</div>"
      ],
      "text/plain": [
       "             Localscore  Roadscore\n",
       "Competition                       \n",
       "Eurocup           85.24      83.96\n",
       "Euroleague        83.28      79.17"
      ]
     },
     "execution_count": 395,
     "metadata": {},
     "output_type": "execute_result"
    }
   ],
   "source": [
    "# 3 Do the same operations with the average points (per competition)\n",
    "\n",
    "# la manera más fácil\n",
    "mitjana = competition[['Competition', 'Localscore', 'Roadscore']].groupby('Competition').mean()\n",
    "round(mitjana, 2)"
   ]
  },
  {
   "cell_type": "code",
   "execution_count": 309,
   "metadata": {},
   "outputs": [
    {
     "name": "stdout",
     "output_type": "stream",
     "text": [
      "Eurocup\n",
      "Average local team score: 85.24\n",
      "Average road team score: 83.96\n",
      "\n",
      "Euroleague\n",
      "Average local team score: 83.28\n",
      "Average road team score: 79.17\n"
     ]
    }
   ],
   "source": [
    "# 3 Do the same operations with the average points (per competition)\n",
    "print(\"Eurocup\")\n",
    "print(f\"Average local team score: {round(EC.Localscore.mean(), 2)}\")\n",
    "print(f\"Average road team score: {round(EC.Roadscore.mean(), 2)}\")\n",
    "print(\"\")\n",
    "print(\"Euroleague\")\n",
    "print(f\"Average local team score: {round(EL.Localscore.mean(), 2)}\")\n",
    "print(f\"Average road team score: {round(EL.Roadscore.mean(), 2)}\")"
   ]
  },
  {
   "cell_type": "code",
   "execution_count": 328,
   "metadata": {},
   "outputs": [
    {
     "data": {
      "text/html": [
       "<div>\n",
       "<style scoped>\n",
       "    .dataframe tbody tr th:only-of-type {\n",
       "        vertical-align: middle;\n",
       "    }\n",
       "\n",
       "    .dataframe tbody tr th {\n",
       "        vertical-align: top;\n",
       "    }\n",
       "\n",
       "    .dataframe thead th {\n",
       "        text-align: right;\n",
       "    }\n",
       "</style>\n",
       "<table border=\"1\" class=\"dataframe\">\n",
       "  <thead>\n",
       "    <tr style=\"text-align: right;\">\n",
       "      <th></th>\n",
       "      <th>Competition</th>\n",
       "      <th>Localscore</th>\n",
       "      <th>Roadscore</th>\n",
       "      <th>Plusminus</th>\n",
       "      <th>Ganador</th>\n",
       "      <th>Absolut_Plusminus</th>\n",
       "      <th>Absolut</th>\n",
       "    </tr>\n",
       "  </thead>\n",
       "  <tbody>\n",
       "    <tr>\n",
       "      <th>0</th>\n",
       "      <td>Eurocup</td>\n",
       "      <td>111</td>\n",
       "      <td>113.0</td>\n",
       "      <td>-2.0</td>\n",
       "      <td>Visitante</td>\n",
       "      <td>2.0</td>\n",
       "      <td>2.0</td>\n",
       "    </tr>\n",
       "    <tr>\n",
       "      <th>1</th>\n",
       "      <td>Eurocup</td>\n",
       "      <td>78</td>\n",
       "      <td>97.0</td>\n",
       "      <td>-19.0</td>\n",
       "      <td>Visitante</td>\n",
       "      <td>19.0</td>\n",
       "      <td>19.0</td>\n",
       "    </tr>\n",
       "    <tr>\n",
       "      <th>2</th>\n",
       "      <td>Eurocup</td>\n",
       "      <td>66</td>\n",
       "      <td>86.0</td>\n",
       "      <td>-20.0</td>\n",
       "      <td>Visitante</td>\n",
       "      <td>20.0</td>\n",
       "      <td>20.0</td>\n",
       "    </tr>\n",
       "    <tr>\n",
       "      <th>3</th>\n",
       "      <td>Eurocup</td>\n",
       "      <td>85</td>\n",
       "      <td>92.0</td>\n",
       "      <td>-7.0</td>\n",
       "      <td>Visitante</td>\n",
       "      <td>7.0</td>\n",
       "      <td>7.0</td>\n",
       "    </tr>\n",
       "    <tr>\n",
       "      <th>4</th>\n",
       "      <td>Eurocup</td>\n",
       "      <td>64</td>\n",
       "      <td>68.0</td>\n",
       "      <td>-4.0</td>\n",
       "      <td>Visitante</td>\n",
       "      <td>4.0</td>\n",
       "      <td>4.0</td>\n",
       "    </tr>\n",
       "    <tr>\n",
       "      <th>...</th>\n",
       "      <td>...</td>\n",
       "      <td>...</td>\n",
       "      <td>...</td>\n",
       "      <td>...</td>\n",
       "      <td>...</td>\n",
       "      <td>...</td>\n",
       "      <td>...</td>\n",
       "    </tr>\n",
       "    <tr>\n",
       "      <th>220</th>\n",
       "      <td>Euroleague</td>\n",
       "      <td>79</td>\n",
       "      <td>73.0</td>\n",
       "      <td>6.0</td>\n",
       "      <td>Local</td>\n",
       "      <td>6.0</td>\n",
       "      <td>6.0</td>\n",
       "    </tr>\n",
       "    <tr>\n",
       "      <th>221</th>\n",
       "      <td>Euroleague</td>\n",
       "      <td>80</td>\n",
       "      <td>68.0</td>\n",
       "      <td>12.0</td>\n",
       "      <td>Local</td>\n",
       "      <td>12.0</td>\n",
       "      <td>12.0</td>\n",
       "    </tr>\n",
       "    <tr>\n",
       "      <th>222</th>\n",
       "      <td>Euroleague</td>\n",
       "      <td>76</td>\n",
       "      <td>85.0</td>\n",
       "      <td>-9.0</td>\n",
       "      <td>Visitante</td>\n",
       "      <td>9.0</td>\n",
       "      <td>9.0</td>\n",
       "    </tr>\n",
       "    <tr>\n",
       "      <th>223</th>\n",
       "      <td>Euroleague</td>\n",
       "      <td>88</td>\n",
       "      <td>84.0</td>\n",
       "      <td>4.0</td>\n",
       "      <td>Local</td>\n",
       "      <td>4.0</td>\n",
       "      <td>4.0</td>\n",
       "    </tr>\n",
       "    <tr>\n",
       "      <th>224</th>\n",
       "      <td>Euroleague</td>\n",
       "      <td>76</td>\n",
       "      <td>69.0</td>\n",
       "      <td>7.0</td>\n",
       "      <td>Local</td>\n",
       "      <td>7.0</td>\n",
       "      <td>7.0</td>\n",
       "    </tr>\n",
       "  </tbody>\n",
       "</table>\n",
       "<p>395 rows × 7 columns</p>\n",
       "</div>"
      ],
      "text/plain": [
       "    Competition  Localscore  Roadscore  Plusminus    Ganador  \\\n",
       "0       Eurocup         111      113.0       -2.0  Visitante   \n",
       "1       Eurocup          78       97.0      -19.0  Visitante   \n",
       "2       Eurocup          66       86.0      -20.0  Visitante   \n",
       "3       Eurocup          85       92.0       -7.0  Visitante   \n",
       "4       Eurocup          64       68.0       -4.0  Visitante   \n",
       "..          ...         ...        ...        ...        ...   \n",
       "220  Euroleague          79       73.0        6.0      Local   \n",
       "221  Euroleague          80       68.0       12.0      Local   \n",
       "222  Euroleague          76       85.0       -9.0  Visitante   \n",
       "223  Euroleague          88       84.0        4.0      Local   \n",
       "224  Euroleague          76       69.0        7.0      Local   \n",
       "\n",
       "     Absolut_Plusminus  Absolut  \n",
       "0                  2.0      2.0  \n",
       "1                 19.0     19.0  \n",
       "2                 20.0     20.0  \n",
       "3                  7.0      7.0  \n",
       "4                  4.0      4.0  \n",
       "..                 ...      ...  \n",
       "220                6.0      6.0  \n",
       "221               12.0     12.0  \n",
       "222                9.0      9.0  \n",
       "223                4.0      4.0  \n",
       "224                7.0      7.0  \n",
       "\n",
       "[395 rows x 7 columns]"
      ]
     },
     "execution_count": 328,
     "metadata": {},
     "output_type": "execute_result"
    }
   ],
   "source": [
    "# 4 Can you tell me the maximum difference that has been in a match, splitted by competition? \n",
    "    # - Careful: The Plusminus is both positive and negative, being negative that the Road Team has achieved the Victory.\n",
    "    # To have the absolute, create a new Column named Absolut_Plusminus. \n",
    "\n",
    "# sin np.where\n",
    "\n",
    "def absolut (x):\n",
    "    if x < 0:\n",
    "        return x*-1\n",
    "    else: \n",
    "        return x\n",
    "\n",
    "competition['Absolut_Plusminus'] = competition.Plusminus.apply(absolut)\n",
    "competition"
   ]
  },
  {
   "cell_type": "code",
   "execution_count": 333,
   "metadata": {},
   "outputs": [
    {
     "data": {
      "text/html": [
       "<div>\n",
       "<style scoped>\n",
       "    .dataframe tbody tr th:only-of-type {\n",
       "        vertical-align: middle;\n",
       "    }\n",
       "\n",
       "    .dataframe tbody tr th {\n",
       "        vertical-align: top;\n",
       "    }\n",
       "\n",
       "    .dataframe thead th {\n",
       "        text-align: right;\n",
       "    }\n",
       "</style>\n",
       "<table border=\"1\" class=\"dataframe\">\n",
       "  <thead>\n",
       "    <tr style=\"text-align: right;\">\n",
       "      <th></th>\n",
       "      <th>Competition</th>\n",
       "      <th>Localscore</th>\n",
       "      <th>Roadscore</th>\n",
       "      <th>Plusminus</th>\n",
       "      <th>Ganador</th>\n",
       "      <th>Absolut_Plusminus</th>\n",
       "    </tr>\n",
       "  </thead>\n",
       "  <tbody>\n",
       "    <tr>\n",
       "      <th>0</th>\n",
       "      <td>Eurocup</td>\n",
       "      <td>111</td>\n",
       "      <td>113.0</td>\n",
       "      <td>-2.0</td>\n",
       "      <td>Visitante</td>\n",
       "      <td>2.0</td>\n",
       "    </tr>\n",
       "    <tr>\n",
       "      <th>1</th>\n",
       "      <td>Eurocup</td>\n",
       "      <td>78</td>\n",
       "      <td>97.0</td>\n",
       "      <td>-19.0</td>\n",
       "      <td>Visitante</td>\n",
       "      <td>19.0</td>\n",
       "    </tr>\n",
       "    <tr>\n",
       "      <th>2</th>\n",
       "      <td>Eurocup</td>\n",
       "      <td>66</td>\n",
       "      <td>86.0</td>\n",
       "      <td>-20.0</td>\n",
       "      <td>Visitante</td>\n",
       "      <td>20.0</td>\n",
       "    </tr>\n",
       "    <tr>\n",
       "      <th>3</th>\n",
       "      <td>Eurocup</td>\n",
       "      <td>85</td>\n",
       "      <td>92.0</td>\n",
       "      <td>-7.0</td>\n",
       "      <td>Visitante</td>\n",
       "      <td>7.0</td>\n",
       "    </tr>\n",
       "    <tr>\n",
       "      <th>4</th>\n",
       "      <td>Eurocup</td>\n",
       "      <td>64</td>\n",
       "      <td>68.0</td>\n",
       "      <td>-4.0</td>\n",
       "      <td>Visitante</td>\n",
       "      <td>4.0</td>\n",
       "    </tr>\n",
       "    <tr>\n",
       "      <th>...</th>\n",
       "      <td>...</td>\n",
       "      <td>...</td>\n",
       "      <td>...</td>\n",
       "      <td>...</td>\n",
       "      <td>...</td>\n",
       "      <td>...</td>\n",
       "    </tr>\n",
       "    <tr>\n",
       "      <th>220</th>\n",
       "      <td>Euroleague</td>\n",
       "      <td>79</td>\n",
       "      <td>73.0</td>\n",
       "      <td>6.0</td>\n",
       "      <td>Local</td>\n",
       "      <td>6.0</td>\n",
       "    </tr>\n",
       "    <tr>\n",
       "      <th>221</th>\n",
       "      <td>Euroleague</td>\n",
       "      <td>80</td>\n",
       "      <td>68.0</td>\n",
       "      <td>12.0</td>\n",
       "      <td>Local</td>\n",
       "      <td>12.0</td>\n",
       "    </tr>\n",
       "    <tr>\n",
       "      <th>222</th>\n",
       "      <td>Euroleague</td>\n",
       "      <td>76</td>\n",
       "      <td>85.0</td>\n",
       "      <td>-9.0</td>\n",
       "      <td>Visitante</td>\n",
       "      <td>9.0</td>\n",
       "    </tr>\n",
       "    <tr>\n",
       "      <th>223</th>\n",
       "      <td>Euroleague</td>\n",
       "      <td>88</td>\n",
       "      <td>84.0</td>\n",
       "      <td>4.0</td>\n",
       "      <td>Local</td>\n",
       "      <td>4.0</td>\n",
       "    </tr>\n",
       "    <tr>\n",
       "      <th>224</th>\n",
       "      <td>Euroleague</td>\n",
       "      <td>76</td>\n",
       "      <td>69.0</td>\n",
       "      <td>7.0</td>\n",
       "      <td>Local</td>\n",
       "      <td>7.0</td>\n",
       "    </tr>\n",
       "  </tbody>\n",
       "</table>\n",
       "<p>395 rows × 6 columns</p>\n",
       "</div>"
      ],
      "text/plain": [
       "    Competition  Localscore  Roadscore  Plusminus    Ganador  \\\n",
       "0       Eurocup         111      113.0       -2.0  Visitante   \n",
       "1       Eurocup          78       97.0      -19.0  Visitante   \n",
       "2       Eurocup          66       86.0      -20.0  Visitante   \n",
       "3       Eurocup          85       92.0       -7.0  Visitante   \n",
       "4       Eurocup          64       68.0       -4.0  Visitante   \n",
       "..          ...         ...        ...        ...        ...   \n",
       "220  Euroleague          79       73.0        6.0      Local   \n",
       "221  Euroleague          80       68.0       12.0      Local   \n",
       "222  Euroleague          76       85.0       -9.0  Visitante   \n",
       "223  Euroleague          88       84.0        4.0      Local   \n",
       "224  Euroleague          76       69.0        7.0      Local   \n",
       "\n",
       "     Absolut_Plusminus  \n",
       "0                  2.0  \n",
       "1                 19.0  \n",
       "2                 20.0  \n",
       "3                  7.0  \n",
       "4                  4.0  \n",
       "..                 ...  \n",
       "220                6.0  \n",
       "221               12.0  \n",
       "222                9.0  \n",
       "223                4.0  \n",
       "224                7.0  \n",
       "\n",
       "[395 rows x 6 columns]"
      ]
     },
     "execution_count": 333,
     "metadata": {},
     "output_type": "execute_result"
    }
   ],
   "source": [
    "# Remember: np.where is life!\n",
    "\n",
    "competition['Absolut_Plusminus'] = np.where(competition.Plusminus < 0, competition.Plusminus*-1, competition.Plusminus)\n",
    "competition"
   ]
  },
  {
   "cell_type": "code",
   "execution_count": 394,
   "metadata": {},
   "outputs": [
    {
     "data": {
      "text/html": [
       "<div>\n",
       "<style scoped>\n",
       "    .dataframe tbody tr th:only-of-type {\n",
       "        vertical-align: middle;\n",
       "    }\n",
       "\n",
       "    .dataframe tbody tr th {\n",
       "        vertical-align: top;\n",
       "    }\n",
       "\n",
       "    .dataframe thead th {\n",
       "        text-align: right;\n",
       "    }\n",
       "</style>\n",
       "<table border=\"1\" class=\"dataframe\">\n",
       "  <thead>\n",
       "    <tr style=\"text-align: right;\">\n",
       "      <th></th>\n",
       "      <th>Absolut_Plusminus</th>\n",
       "    </tr>\n",
       "    <tr>\n",
       "      <th>Competition</th>\n",
       "      <th></th>\n",
       "    </tr>\n",
       "  </thead>\n",
       "  <tbody>\n",
       "    <tr>\n",
       "      <th>Eurocup</th>\n",
       "      <td>39</td>\n",
       "    </tr>\n",
       "    <tr>\n",
       "      <th>Euroleague</th>\n",
       "      <td>39</td>\n",
       "    </tr>\n",
       "  </tbody>\n",
       "</table>\n",
       "</div>"
      ],
      "text/plain": [
       "             Absolut_Plusminus\n",
       "Competition                   \n",
       "Eurocup                     39\n",
       "Euroleague                  39"
      ]
     },
     "execution_count": 394,
     "metadata": {},
     "output_type": "execute_result"
    }
   ],
   "source": [
    "maxdif = competition[['Competition','Absolut_Plusminus']].groupby('Competition').max()\n",
    "maxdif.astype(int)"
   ]
  },
  {
   "cell_type": "code",
   "execution_count": 334,
   "metadata": {},
   "outputs": [
    {
     "name": "stdout",
     "output_type": "stream",
     "text": [
      "Maximum difference of points scored\n",
      "Eurocup: 39.0\n",
      "Euroleague: 39.0\n"
     ]
    }
   ],
   "source": [
    "print(\"Maximum difference of points scored\")\n",
    "print(f\"Eurocup: {EC.Absolut_Plusminus.max()}\")\n",
    "print(f\"Euroleague: {EL.Absolut_Plusminus.max()}\")"
   ]
  },
  {
   "cell_type": "code",
   "execution_count": 393,
   "metadata": {},
   "outputs": [
    {
     "data": {
      "text/html": [
       "<div>\n",
       "<style scoped>\n",
       "    .dataframe tbody tr th:only-of-type {\n",
       "        vertical-align: middle;\n",
       "    }\n",
       "\n",
       "    .dataframe tbody tr th {\n",
       "        vertical-align: top;\n",
       "    }\n",
       "\n",
       "    .dataframe thead th {\n",
       "        text-align: right;\n",
       "    }\n",
       "</style>\n",
       "<table border=\"1\" class=\"dataframe\">\n",
       "  <thead>\n",
       "    <tr style=\"text-align: right;\">\n",
       "      <th>Ganador</th>\n",
       "      <th>Local</th>\n",
       "      <th>Visitante</th>\n",
       "    </tr>\n",
       "    <tr>\n",
       "      <th>Competition</th>\n",
       "      <th></th>\n",
       "      <th></th>\n",
       "    </tr>\n",
       "  </thead>\n",
       "  <tbody>\n",
       "    <tr>\n",
       "      <th>Eurocup</th>\n",
       "      <td>90</td>\n",
       "      <td>80</td>\n",
       "    </tr>\n",
       "    <tr>\n",
       "      <th>Euroleague</th>\n",
       "      <td>150</td>\n",
       "      <td>75</td>\n",
       "    </tr>\n",
       "  </tbody>\n",
       "</table>\n",
       "</div>"
      ],
      "text/plain": [
       "Ganador      Local  Visitante\n",
       "Competition                  \n",
       "Eurocup         90         80\n",
       "Euroleague     150         75"
      ]
     },
     "execution_count": 393,
     "metadata": {},
     "output_type": "execute_result"
    }
   ],
   "source": [
    "# 5 Also grouped by competition, give me the number of victories of the Locals and the Visitors\n",
    "pd.crosstab(competition['Competition'], competition['Ganador'], competition['Ganador'], aggfunc='count')"
   ]
  }
 ],
 "metadata": {
  "kernelspec": {
   "display_name": "original",
   "language": "python",
   "name": "python3"
  },
  "language_info": {
   "codemirror_mode": {
    "name": "ipython",
    "version": 3
   },
   "file_extension": ".py",
   "mimetype": "text/x-python",
   "name": "python",
   "nbconvert_exporter": "python",
   "pygments_lexer": "ipython3",
   "version": "3.12.5"
  }
 },
 "nbformat": 4,
 "nbformat_minor": 4
}
